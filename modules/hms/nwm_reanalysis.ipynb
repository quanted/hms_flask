{
 "cells": [
  {
   "cell_type": "code",
   "execution_count": null,
   "id": "a327a545-8624-44c4-a02b-f01e37d7f087",
   "metadata": {},
   "outputs": [],
   "source": [
    "from nwm_reanalysis import NWM\n",
    "from dask.distributed import Client, LocalCluster\n",
    "# import asyncio"
   ]
  },
  {
   "cell_type": "code",
   "execution_count": null,
   "id": "f4b0b9b0-560a-414d-b59f-715d77648e02",
   "metadata": {},
   "outputs": [],
   "source": [
    "start_date = \"2000-01-01\"\n",
    "end_date = \"2010-12-31\"\n",
    "# comids = [2043493, 20873280, 7590453]\n",
    "comids = [2043493, 20873280, 7590453]\n",
    "\n",
    "\n",
    "nwm = NWM(start_date=start_date, end_date=end_date, comids=comids)\n",
    "scheduler = LocalCluster(n_workers=10, threads_per_worker=2, processes=False)\n",
    "scheduler"
   ]
  },
  {
   "cell_type": "code",
   "execution_count": null,
   "id": "b83e4d03-5dec-4b9d-a19c-03b081caa2ff",
   "metadata": {},
   "outputs": [],
   "source": [
    "%%time\n",
    "# %%prun\n",
    "nwm.request_timeseries(scheduler=scheduler, optimize=True, nwm_21=True)\n",
    "nwm.data\n",
    "# 10y, 1comid: 14min CPU, 19min\n",
    "# 10y, 2comid: 21min CPU, 30min\n",
    "# 10y, 3comid: 32min CPU, 46min"
   ]
  },
  {
   "cell_type": "code",
   "execution_count": null,
   "id": "17357345-3aa2-4619-958a-661aadfa74bb",
   "metadata": {},
   "outputs": [],
   "source": [
    "%%time\n",
    "df = nwm.set_output(return_dataframe=False)\n",
    "nwm.output"
   ]
  },
  {
   "cell_type": "code",
   "execution_count": null,
   "id": "d1002003-5872-443f-bab4-b624807797c7",
   "metadata": {},
   "outputs": [],
   "source": [
    "%%time\n",
    "nwm.request_timeseries(scheduler=scheduler, optimize=False, nwm_2=True)\n",
    "nwm.data"
   ]
  },
  {
   "cell_type": "code",
   "execution_count": null,
   "id": "3607b799-c35a-49a6-be70-391a26aa8e32",
   "metadata": {},
   "outputs": [],
   "source": [
    "%%time\n",
    "nwm.set_output()\n",
    "nwm.output\n",
    "\n",
    "\n",
    "-----------------------------------"
   ]
  },
  {
   "cell_type": "code",
   "execution_count": 1,
   "id": "f628b93e-b2b1-43a9-9b09-cdbf7d0b6255",
   "metadata": {},
   "outputs": [],
   "source": [
    "import xarray as xr\n",
    "import fsspec\n",
    "import dask\n",
    "import s3fs\n",
    "from datetime import datetime\n",
    "from rechunker import rechunk\n",
    "\n",
    "from dask.distributed import Client, LocalCluster"
   ]
  },
  {
   "cell_type": "code",
   "execution_count": 2,
   "id": "b6cd0597-a620-462e-9d8c-e4a7a6a2db85",
   "metadata": {},
   "outputs": [
    {
     "data": {
      "text/plain": [
       "'http://10.104.50.239:8787/status'"
      ]
     },
     "execution_count": 2,
     "metadata": {},
     "output_type": "execute_result"
    }
   ],
   "source": [
    "n_workers = 10\n",
    "scheduler = LocalCluster(n_workers=n_workers, threads_per_worker=2, processes=False)\n",
    "client = Client(scheduler)\n",
    "client.dashboard_link"
   ]
  },
  {
   "cell_type": "code",
   "execution_count": 3,
   "id": "f86760bf-704b-43ec-b993-f57e58539661",
   "metadata": {},
   "outputs": [],
   "source": [
    "nwm_url = 's3://noaa-nwm-retrospective-2-1-zarr-pds/chrtout.zarr'\n",
    "start_date = datetime.fromisoformat(\"2000-01-01\")\n",
    "end_date = datetime.fromisoformat(\"2010-12-31\")\n",
    "# comids = [2043493, 20873280, 7590453]\n",
    "comids = [2043493]\n",
    "variables = [\"streamflow\", \"velocity\"]\n",
    "\n",
    "start_string = f\"{start_date.year}-{start_date.month}-{start_date.day}\"\n",
    "end_string = f\"{end_date.year}-{end_date.month}-{end_date.day}\""
   ]
  },
  {
   "cell_type": "code",
   "execution_count": 4,
   "id": "99b55918-373b-4523-919c-07e1bada891e",
   "metadata": {},
   "outputs": [
    {
     "name": "stdout",
     "output_type": "stream",
     "text": [
      "CPU times: total: 11.2 s\n",
      "Wall time: 55.7 s\n"
     ]
    }
   ],
   "source": [
    "%%time\n",
    "# drop_variables = [\"elevation\", \"order\", \"qBtmVertRunoff\", \"qBucket\", \"qSfcLatRunoff\", \"q_lateral\"]\n",
    "ds = xr.open_zarr(fsspec.get_mapper(nwm_url, anon=True), consolidated=True)"
   ]
  },
  {
   "cell_type": "code",
   "execution_count": null,
   "id": "a7b8da6b-7323-43fc-8ad2-2fde0c137feb",
   "metadata": {},
   "outputs": [],
   "source": [
    "%%time\n",
    "# Option one, default with comid selection and time slice happening at the same time with dask\n",
    "with dask.config.set(**{'array.slicing.split_large_chunks': True}):\n",
    "    ds_data = ds[variables].sel(feature_id=comids).sel(time=slice(start_string, end_string)).load(optimize_graph=False, traverse=False)\n",
    "data = ds_data\n",
    "print(f\"Start: {start_string}, End: {end_string}\")\n",
    "data"
   ]
  },
  {
   "cell_type": "code",
   "execution_count": null,
   "id": "15a641b3-c7c9-4ef9-8f78-cf37a4c15c9c",
   "metadata": {},
   "outputs": [
    {
     "name": "stdout",
     "output_type": "stream",
     "text": [
      "_copy_chunk((slice(0, 1, None),))\n",
      "_copy_chunk((slice(0, 1, None),))\n",
      "_copy_chunk((slice(0, 96432, None),))\n",
      "_copy_chunk((slice(0, 96432, None), slice(0, 1, None)))\n",
      "_copy_chunk((slice(0, 1, None),))\n",
      "_copy_chunk((slice(0, 1, None),))\n",
      "_copy_chunk((slice(0, 96432, None), slice(0, 1, None)))\n",
      "_copy_chunk((slice(0, 1, None),))\n",
      "_copy_chunk((slice(0, 1, None),))\n"
     ]
    }
   ],
   "source": [
    "%%time\n",
    "ds = ds.sel(time=slice(start_string, end_string))\n",
    "ds_features_0 = (ds.where(ds.feature_id.isin(comids), drop=True))\n",
    "ds_features = ds_features_0.copy()\n",
    "ds_features = ds_features.drop('crs')\n",
    "\n",
    "# Option two, rechunk the data\n",
    "dim_chunk_sizes = {'feature_id': len(comids), 'time': len(ds_features.time)}\n",
    "ds_features = ds_features.chunk(chunks=dim_chunk_sizes)\n",
    "chunk_plan = {}\n",
    "for vv in ds_features.variables:\n",
    "    if vv in ['streamflow', 'velocity']:\n",
    "        chunk_plan[vv] = tuple((dim_chunk_sizes[tt] for tt in ds_features[vv].dims))\n",
    "    else: \n",
    "        chunk_plan[vv] = ds_features[vv].shape\n",
    "    ds_features[vv].encoding['chunks'] = None\n",
    "\n",
    "max_mem = f\"{format(0.9 * 56 / n_workers, '.2f')}GB\"\n",
    "ds_features = ds_features.chunk(chunks=dim_chunk_sizes)\n",
    "intermediate = \"intermediate.zarr\"\n",
    "target = \"target.zarr\"\n",
    "\n",
    "rechunked = rechunk(ds_features, target_chunks=chunk_plan, target_store=target,\n",
    "                    max_mem=max_mem,\n",
    "                    temp_store=intermediate)\n",
    "result = rechunked.execute(retries=10)\n",
    "ds = xr.open_zarr(target)\n",
    "ds_data = ds[variables].load(optimize_graph=True, traverse=False)\n",
    "data = ds_data\n",
    "print(f\"Start: {start_string}, End: {end_string}\")\n",
    "data"
   ]
  },
  {
   "cell_type": "code",
   "execution_count": null,
   "id": "f32b4513-120c-4ece-8fa3-5b044de00afd",
   "metadata": {},
   "outputs": [],
   "source": [
    "%%time\n",
    "# Option three, no dask slicing\n",
    "ds_data = ds[variables].sel(feature_id=comids).sel(time=slice(start_string, end_string)).load(optimize_graph=False, traverse=False)\n",
    "data = ds_data\n",
    "print(f\"Start: {start_string}, End: {end_string}\")\n",
    "data"
   ]
  },
  {
   "cell_type": "code",
   "execution_count": null,
   "id": "88212903-c261-4b35-b468-f988de15c13f",
   "metadata": {},
   "outputs": [],
   "source": [
    "%%time\n",
    "data = data.sel(time=slice(start_string, end_string))\n",
    "data"
   ]
  },
  {
   "cell_type": "code",
   "execution_count": null,
   "id": "f11a58f9-f32b-4f46-bd7d-6b77d3f69532",
   "metadata": {},
   "outputs": [],
   "source": [
    "%%time\n",
    "# zarr_file = nwm_url\n",
    "# s3 = s3fs.S3FileSystem(anon=True)\n",
    "# store = s3fs.S3Map(root=zarr_file, s3=s3, check=False)\n",
    "# ds_nwm_chrtout = xr.open_zarr(store=store, consolidated=True)\n",
    "# ds_nwm_chrtout"
   ]
  },
  {
   "cell_type": "code",
   "execution_count": null,
   "id": "42239f9a-b09d-4600-bcd8-5c399f67164f",
   "metadata": {},
   "outputs": [],
   "source": [
    "%%time\n",
    "ds_nwm_feature = ds_nwm_chrtout.isel(feature_id==f'{self.comids}'.encode())\n",
    "streamflow_nwm = ds_nwm_feature.streamflow.load()\n",
    "streamflow_nwm_df = streamflow_nwm.squeeze('feature_id').to_dataframe()\n",
    "streamflow_nwm_df"
   ]
  },
  {
   "cell_type": "code",
   "execution_count": null,
   "id": "578c6e18-9a9c-471c-adea-7321e929c704",
   "metadata": {},
   "outputs": [],
   "source": [
    "%%time\n",
    "variables = [\"streamflow\", \"velocity\"]\n",
    "start_string = f\"{nwm.start_date.year}-{nwm.start_date.month}-{nwm.start_date.day}\"\n",
    "end_string = f\"{nwm.end_date.year}-{nwm.end_date.month}-{nwm.end_date.day}\"\n",
    "# with dask.config.set(**{'array.slicing.split_large_chunks': True}):\n",
    "ds_data = ds[variables].sel(feature_id=nwm.comids).sel(time=slice(start_string, end_string)).load(optimize_graph=False, traverse=False)\n",
    "data = ds_data\n",
    "print(f\"Start: {start_string}, End: {end_string}\")\n",
    "data"
   ]
  },
  {
   "cell_type": "code",
   "execution_count": null,
   "id": "1d7df02a-1ffb-4762-8ccc-bedc44a60830",
   "metadata": {},
   "outputs": [],
   "source": [
    "%%time\n",
    "start_string = f\"{nwm.start_date.year}-{nwm.start_date.month}-{nwm.start_date.day}\"\n",
    "end_string = f\"{nwm.end_date.year}-{nwm.end_date.month}-{nwm.end_date.day}\"\n",
    "ds_data = ds.sel(feature_id=nwm.comids)\n",
    "ds_data = ds_data.sel(time=slice(start_string, end_string)).load(optimize_graph=True, traverse=False).load()\n",
    "ds_data"
   ]
  },
  {
   "cell_type": "code",
   "execution_count": null,
   "id": "1dcdd6b1-fc30-402a-8571-1ca956ca3440",
   "metadata": {},
   "outputs": [],
   "source": [
    "ds_data = ds_data.sel(time=slice(start_string, end_string)).load(optimize_graph=True, traverse=False).load()\n",
    "print(f\"Start: {start_string}, End: {end_string}\")\n",
    "ds_data"
   ]
  },
  {
   "cell_type": "code",
   "execution_count": null,
   "id": "0003cad2-422b-4c46-8c31-2f05e9f1c109",
   "metadata": {},
   "outputs": [],
   "source": [
    "all_variables = [\"elevation\", \"order\", \"qBtmVertRunoff\", \"qBucket\", \"qSfcLatRunoff\", \"q_lateral\", \"streamflow\", \"velocity\"]\n",
    "d_v = list(set(all_variables) - set(variables))\n",
    "d_v"
   ]
  },
  {
   "cell_type": "code",
   "execution_count": null,
   "id": "16ecc99d-7ec8-4b93-96e7-18a3c6ab6629",
   "metadata": {},
   "outputs": [],
   "source": []
  }
 ],
 "metadata": {
  "kernelspec": {
   "display_name": "Python 3 (ipykernel)",
   "language": "python",
   "name": "python3"
  },
  "language_info": {
   "codemirror_mode": {
    "name": "ipython",
    "version": 3
   },
   "file_extension": ".py",
   "mimetype": "text/x-python",
   "name": "python",
   "nbconvert_exporter": "python",
   "pygments_lexer": "ipython3",
   "version": "3.9.10"
  }
 },
 "nbformat": 4,
 "nbformat_minor": 5
}
