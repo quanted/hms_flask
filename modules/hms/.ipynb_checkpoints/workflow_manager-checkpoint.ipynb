{
 "cells": [
  {
   "cell_type": "code",
   "execution_count": 1,
   "metadata": {
    "tags": []
   },
   "outputs": [],
   "source": [
    "import os\n",
    "import json\n",
    "import uuid\n",
    "from workflow_manager import WorkflowManager, MongoWorkflow"
   ]
  },
  {
   "cell_type": "code",
   "execution_count": 6,
   "metadata": {
    "collapsed": false,
    "jupyter": {
     "outputs_hidden": false
    },
    "pycharm": {
     "name": "#%%\n"
    }
   },
   "outputs": [],
   "source": [
    "# Load the sample input json for the request\n",
    "example_file = os.path.join(\".\", \"workflow_input_example.txt\")\n",
    "with open(example_file) as f:\n",
    "    input_json = json.load(f)\n",
    "#input_json"
   ]
  },
  {
   "cell_type": "code",
   "execution_count": 7,
   "metadata": {
    "collapsed": false,
    "jupyter": {
     "outputs_hidden": false
    },
    "pycharm": {
     "name": "#%%\n"
    }
   },
   "outputs": [
    {
     "name": "stderr",
     "output_type": "stream",
     "text": [
      "C:\\Users\\dsmith\\Anaconda3\\envs\\qed-flask-dev\\lib\\site-packages\\distributed\\node.py:155: UserWarning: Port 8787 is already in use.\n",
      "Perhaps you already have a cluster running?\n",
      "Hosting the HTTP server on port 60733 instead\n",
      "  http_address[\"port\"], self.http_server.port\n"
     ]
    },
    {
     "name": "stdout",
     "output_type": "stream",
     "text": [
      "Wall time: 3.99 s\n"
     ]
    },
    {
     "data": {
      "text/plain": [
       "'f0fc3aef-a00a-4f96-b51e-3a4d12977f94'"
      ]
     },
     "execution_count": 7,
     "metadata": {},
     "output_type": "execute_result"
    }
   ],
   "source": [
    "%%time\n",
    "# Initialize the workflow class object and inputs\n",
    "sim_id = str(uuid.uuid4())\n",
    "debug = True\n",
    "local = True\n",
    "workflow = WorkflowManager(\n",
    "    task_id=sim_id,\n",
    "    sim_input=input_json[\"sim_input\"],\n",
    "    order=input_json[\"network\"][\"order\"],\n",
    "    sources=input_json[\"network\"][\"sources\"],\n",
    "    local=local,\n",
    "    debug=debug\n",
    ")\n",
    "workflow.task_id"
   ]
  },
  {
   "cell_type": "code",
   "execution_count": 8,
   "metadata": {
    "collapsed": false,
    "jupyter": {
     "outputs_hidden": false
    },
    "pycharm": {
     "name": "#%%\n"
    }
   },
   "outputs": [
    {
     "data": {
      "text/html": [
       "<div style='background-color: #f2f2f2; display: inline-block; padding: 10px; border: 1px solid #999999;'>\n",
       "  <h3>LocalCluster</h3>\n",
       "  <ul>\n",
       "    <li><b>Dashboard: </b><a href='http://127.0.0.1:60733/status' target='_blank'>http://127.0.0.1:60733/status</a>\n",
       "  </ul>\n",
       "</div>\n"
      ],
      "text/plain": [
       "LocalCluster(04730203, 'tcp://127.0.0.1:60736', workers=4, threads=16, memory=127.76 GiB)"
      ]
     },
     "metadata": {},
     "output_type": "display_data"
    }
   ],
   "source": [
    "workflow.scheduler"
   ]
  },
  {
   "cell_type": "code",
   "execution_count": 9,
   "metadata": {
    "collapsed": false,
    "jupyter": {
     "outputs_hidden": false
    },
    "pycharm": {
     "name": "#%%\n"
    }
   },
   "outputs": [
    {
     "name": "stdout",
     "output_type": "stream",
     "text": [
      "Wall time: 0 ns\n"
     ]
    }
   ],
   "source": [
    "%%time\n",
    "#TODO: Specify simulation level dependency tasks.\n",
    "# input_json[\"simulation_dependencies\"] = [{'name': NAME, 'url': URL, 'input': INPUT}]\n",
    "# These dependencies will correspond to data retrieval tasks, performed by the Workflow manager prior to simulation execution tasks, to the HMS backend\n",
    "# The results of these dependency tasks are stored in mongoDB by taskID, then passed along in the AQT workflow tasks by id\n",
    "# The backend will be responsible for the logic and handling of the data\n",
    "# When the backend merges the data into input (which will need to occur prior to merging the upstream segments) the backend will then save the \n",
    "# updated input (for potential reuse)\n",
    "\n",
    "workflow.define_presim_dependencies(input_json[\"simulation_dependencies\"])"
   ]
  },
  {
   "cell_type": "code",
   "execution_count": 10,
   "metadata": {
    "collapsed": false,
    "jupyter": {
     "outputs_hidden": false
    },
    "pycharm": {
     "name": "#%%\n"
    }
   },
   "outputs": [
    {
     "name": "stdout",
     "output_type": "stream",
     "text": [
      "Wall time: 459 ms\n"
     ]
    }
   ],
   "source": [
    "%%time\n",
    "# Construct the dask graph from the catchment list\n",
    "# Catchment dependencies behave the same way as simulation dependencies, but are only passed to the corresponding segment task and have the appropriate linking.\n",
    "workflow.construct(input_json[\"comid_inputs\"], input_json[\"catchment_dependencies\"])"
   ]
  },
  {
   "cell_type": "code",
   "execution_count": 11,
   "metadata": {
    "collapsed": false,
    "jupyter": {
     "outputs_hidden": false
    },
    "pycharm": {
     "name": "#%%\n"
    }
   },
   "outputs": [
    {
     "name": "stdout",
     "output_type": "stream",
     "text": [
      "6177452 : {}\n",
      "6177450 : {}\n",
      "6177476 : {'6177452': 'b97853ee-4588-491a-9ffb-ebb1d7118d13', '6177450': '71522fb6-0b78-4da8-bf62-79e2e9808f7a'}\n",
      "6177474 : {}\n",
      "6177558 : {'6177476': '0b70a25e-a7ef-4d64-ab15-45a16f18fd78', '6177474': '2538cc9e-9136-469f-9176-7887914cc1f4'}\n",
      "Delayed('6177558_5ea52036-2318-4b8b-97f5-0e9964a7819a')\n"
     ]
    },
    {
     "data": {
      "image/png": "[encoded data removed]",
      "text/plain": [
       "<IPython.core.display.Image object>"
      ]
     },
     "execution_count": 11,
     "metadata": {},
     "output_type": "execute_result"
    }
   ],
   "source": [
    "[print(f\"{comid} : {c_id}\") for comid, c_id in workflow.source_ids.items()]\n",
    "print(workflow.pourpoint)\n",
    "workflow.pourpoint.visualize(color='order', verbose=True)"
   ]
  },
  {
   "cell_type": "code",
   "execution_count": 24,
   "metadata": {
    "collapsed": false,
    "jupyter": {
     "outputs_hidden": false
    },
    "pycharm": {
     "name": "#%%\n"
    }
   },
   "outputs": [
    {
     "name": "stdout",
     "output_type": "stream",
     "text": [
      "6177452 : d54efc57-1b9f-4554-badd-1c273b15a8f6\n",
      "6177450 : 650f5d7e-477b-4372-8424-ef1befefed39\n",
      "6177476 : e704d8bc-e530-4e12-979b-ee012c9c93ac\n",
      "6177474 : da2b81e8-78c2-4e41-a108-cb1e399a5b94\n",
      "6177558 : d31ef565-70fb-47a9-bc38-7528aabe9c14\n"
     ]
    },
    {
     "data": {
      "text/plain": [
       "[None, None, None, None, None]"
      ]
     },
     "execution_count": 24,
     "metadata": {},
     "output_type": "execute_result"
    }
   ],
   "source": [
    "[print(f\"{comid} : {c_id}\") for comid, c_id in workflow.catchment_ids.items()]"
   ]
  },
  {
   "cell_type": "code",
   "execution_count": 25,
   "metadata": {
    "collapsed": false,
    "jupyter": {
     "outputs_hidden": false
    },
    "pycharm": {
     "name": "#%%\n"
    }
   },
   "outputs": [
    {
     "name": "stdout",
     "output_type": "stream",
     "text": [
      "Wall time: 159 ms\n"
     ]
    },
    {
     "data": {
      "text/plain": [
       "{'_id': 'd0b73c34-e5ae-4a2a-bde9-779a8cc49f88',\n",
       " 'type': 'workflow',\n",
       " 'status': 'IN-PROGRESS',\n",
       " 'update_time': '2021-05-20 15:16:40.995303',\n",
       " 'message': None,\n",
       " 'catchments': {'6177452': {'status': 'PENDING',\n",
       "   'task_id': 'd54efc57-1b9f-4554-badd-1c273b15a8f6',\n",
       "   'message': None,\n",
       "   'update_time': '2021-05-20 15:16:40.803053'},\n",
       "  '6177450': {'status': 'PENDING',\n",
       "   'task_id': '650f5d7e-477b-4372-8424-ef1befefed39',\n",
       "   'message': None,\n",
       "   'update_time': '2021-05-20 15:16:40.838654'},\n",
       "  '6177476': {'status': 'PENDING',\n",
       "   'task_id': 'e704d8bc-e530-4e12-979b-ee012c9c93ac',\n",
       "   'message': None,\n",
       "   'update_time': '2021-05-20 15:16:40.884085'},\n",
       "  '6177474': {'status': 'PENDING',\n",
       "   'task_id': 'da2b81e8-78c2-4e41-a108-cb1e399a5b94',\n",
       "   'message': None,\n",
       "   'update_time': '2021-05-20 15:16:40.910381'},\n",
       "  '6177558': {'status': 'PENDING',\n",
       "   'task_id': 'd31ef565-70fb-47a9-bc38-7528aabe9c14',\n",
       "   'message': None,\n",
       "   'update_time': '2021-05-20 15:16:40.929174'}},\n",
       " 'network_order': [[6177452, 6177450], [6177476, 6177474], [6177558]],\n",
       " 'catchment_sources': {'6177450': [],\n",
       "  '6177452': [],\n",
       "  '6177474': [],\n",
       "  '6177476': ['6177452_b97853ee-4588-491a-9ffb-ebb1d7118d13',\n",
       "   '6177450_71522fb6-0b78-4da8-bf62-79e2e9808f7a'],\n",
       "  '6177558': [6177476, 6177474]}}"
      ]
     },
     "execution_count": 25,
     "metadata": {},
     "output_type": "execute_result"
    }
   ],
   "source": [
    "%%time\n",
    "# Request to get the simulation status from mongoDB\n",
    "sim_status = MongoWorkflow.get_status(task_id=sim_id)\n",
    "del sim_status[\"input\"]\n",
    "sim_status"
   ]
  },
  {
   "cell_type": "code",
   "execution_count": 26,
   "metadata": {
    "collapsed": false,
    "jupyter": {
     "outputs_hidden": false
    },
    "pycharm": {
     "name": "#%%\n"
    }
   },
   "outputs": [
    {
     "name": "stdout",
     "output_type": "stream",
     "text": [
      "Wall time: 23.5 s\n"
     ]
    }
   ],
   "source": [
    "%%time\n",
    "# Executes the workflow, based upon the constructed graph\n",
    "workflow.compute()"
   ]
  },
  {
   "cell_type": "code",
   "execution_count": 13,
   "metadata": {
    "collapsed": false,
    "jupyter": {
     "outputs_hidden": false
    },
    "pycharm": {
     "name": "#%%\n"
    }
   },
   "outputs": [
    {
     "name": "stdout",
     "output_type": "stream",
     "text": [
      "Wall time: 31.5 ms\n"
     ]
    },
    {
     "data": {
      "text/plain": [
       "{'_id': '71522fb6-0b78-4da8-bf62-79e2e9808f7a',\n",
       " 'type': 'catchment',\n",
       " 'sim_id': 'fbd9cdc1-667b-4c4b-96d5-44d20eaadbe8',\n",
       " 'status': 'COMPLETED',\n",
       " 'update_time': '2021-05-20 15:07:37.971583',\n",
       " 'message': None,\n",
       " 'upstream': {},\n",
       " 'runtime': '10.4451'}"
      ]
     },
     "execution_count": 13,
     "metadata": {},
     "output_type": "execute_result"
    }
   ],
   "source": [
    "%%time\n",
    "# Get the catchment status from mongoDB\n",
    "catchment_id = \"71522fb6-0b78-4da8-bf62-79e2e9808f7a\"\n",
    "catchment_status = MongoWorkflow.get_status(task_id=catchment_id)\n",
    "del catchment_status[\"input\"]\n",
    "catchment_status"
   ]
  },
  {
   "cell_type": "code",
   "execution_count": 16,
   "metadata": {
    "collapsed": false,
    "jupyter": {
     "outputs_hidden": false
    },
    "pycharm": {
     "name": "#%%\n"
    }
   },
   "outputs": [
    {
     "name": "stdout",
     "output_type": "stream",
     "text": [
      "Wall time: 34.2 ms\n"
     ]
    }
   ],
   "source": [
    "%%time\n",
    "# Get the catchment data from mongoDB\n",
    "catchment_data = MongoWorkflow.get_data(task_id=catchment_id)\n"
   ]
  },
  {
   "cell_type": "code",
   "execution_count": null,
   "metadata": {},
   "outputs": [],
   "source": []
  }
 ],
 "metadata": {
  "kernelspec": {
   "display_name": "Python 3",
   "language": "python",
   "name": "python3"
  },
  "language_info": {
   "codemirror_mode": {
    "name": "ipython",
    "version": 3
   },
   "file_extension": ".py",
   "mimetype": "text/x-python",
   "name": "python",
   "nbconvert_exporter": "python",
   "pygments_lexer": "ipython3",
   "version": "3.7.10"
  }
 },
 "nbformat": 4,
 "nbformat_minor": 4
}
